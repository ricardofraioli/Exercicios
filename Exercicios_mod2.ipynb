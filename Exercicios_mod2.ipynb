{
 "cells": [
  {
   "cell_type": "markdown",
   "metadata": {},
   "source": [
    "\n",
    "EXERCÍCIOS MOD 2"
   ]
  },
  {
   "cell_type": "markdown",
   "metadata": {},
   "source": [
    "1. Crie um programa que leia nome, sexo e idade de várias pessoas, guardando os dados  de cada pessoa em um dicionário e todos os dicionários em uma lista. No final, mostre: \n",
    "\n",
    "a) Quantas pessoas foram cadastradas \n",
    "\n",
    "b) A média de idade \n",
    "\n",
    "c) Uma lista com as mulheres \n",
    "\n",
    "d) Uma lista de pessoas com idade acima da média \n"
   ]
  },
  {
   "cell_type": "code",
   "execution_count": 249,
   "metadata": {},
   "outputs": [
    {
     "name": "stdout",
     "output_type": "stream",
     "text": [
      "[['Ricardo', 33, 'masculino'], ['Gabriele', 24, 'feminino'], ['Pedro', 18, 'masculino'], ['Maria', 47, 'feminino']]\n",
      "Total de pessoas cadastradas 4\n",
      "a media das idades é: 30\n",
      "[['Gabriele', 24, 'feminino'], ['Maria', 47, 'feminino']]\n",
      "[['Ricardo', 33, 'masculino'], ['Maria', 47, 'feminino']]\n"
     ]
    }
   ],
   "source": [
    "listaFuncionarios=[]\n",
    "listaMulher= []\n",
    "soma = []\n",
    "listaIdade = []\n",
    "\n",
    "while True:\n",
    "\n",
    "  nome=input('Informe seu nome: ') \n",
    "  idade=int(input('Informe seu idade: '))\n",
    "  sexo=input('Informe seu sexo: ')\n",
    "\n",
    "  listaFuncionarios.append([nome,idade, sexo])\n",
    "\n",
    "\n",
    "  opcao=input('Deseja inserir um novo funcionario? digite S para sim e N para não')# incluri upper\n",
    "  if opcao=='N':\n",
    "    break\n",
    "\n",
    "\n",
    "print(listaFuncionarios)\n",
    "\n",
    "\n",
    "# a) Quantas pessoas foram cadastradas \n",
    "total = len(listaFuncionarios)\n",
    "print(f'Total de pessoas cadastradas {total}')\n",
    "\n",
    "\n",
    "# b) A média de idade \n",
    "for i in listaFuncionarios:\n",
    "  if i[1] > 0:\n",
    "    soma.append(i[1])\n",
    "\n",
    "media = sum(soma)/total    \n",
    "print(f'a media das idades é: {media:.0f}')\n",
    " \n",
    "# c) Uma lista com as mulheres \n",
    "for m in listaFuncionarios:\n",
    "  if m[2] == 'feminino':\n",
    "    listaMulher.append(m)\n",
    "\n",
    "print(listaMulher)\n",
    "\n",
    "\n",
    "# d) Uma lista de pessoas com idade acima da média \n",
    "for im in listaFuncionarios:\n",
    "  if im[1] > media:\n",
    "    listaIdade.append(im)\n",
    "    \n",
    "print(listaIdade)\n",
    "\n",
    "\n",
    "\n",
    "\n"
   ]
  },
  {
   "cell_type": "markdown",
   "metadata": {},
   "source": [
    "2. Escreva um programa Python para criar uma tupla com números de 1 a 4 e imprima um item \n"
   ]
  },
  {
   "cell_type": "code",
   "execution_count": null,
   "metadata": {},
   "outputs": [
    {
     "name": "stdout",
     "output_type": "stream",
     "text": [
      "(1, 2, 3, 4)\n"
     ]
    },
    {
     "data": {
      "text/plain": [
       "3"
      ]
     },
     "execution_count": 64,
     "metadata": {},
     "output_type": "execute_result"
    }
   ],
   "source": [
    "lista = []\n",
    "x=0\n",
    "\n",
    "while x < 4:\n",
    "    for l in range(1,5):\n",
    "        lista.append(l)\n",
    "        x +=1 \n",
    "\n",
    "t_lista = tuple(lista)\n",
    "print(t_lista)\n",
    "t_lista[2]\n",
    "\n"
   ]
  },
  {
   "cell_type": "markdown",
   "metadata": {},
   "source": [
    "3. Escreva um programa Python para desempacotar uma tupla em várias variáveis:  considere uma tupla = (‘aluno’,’universidade’, ‘nota’, ‘resultado’) e as variáveis w, x, y, z \n",
    "Consulte o tipo de dados de cada uma das variáveis e impriva os valores de cada uma  delas.\n"
   ]
  },
  {
   "cell_type": "code",
   "execution_count": null,
   "metadata": {},
   "outputs": [
    {
     "name": "stdout",
     "output_type": "stream",
     "text": [
      "<class 'tuple'>\n",
      "<class 'str'>\n",
      "<class 'str'>\n",
      "<class 'str'>\n",
      "<class 'str'>\n",
      "aluno universidade nota resultado\n"
     ]
    }
   ],
   "source": [
    "t ='aluno','universidade', 'nota','resultado' \n",
    "\n",
    "w, x, y, z = t\n",
    "\n",
    "print(type(t))\n",
    "print(type(w))\n",
    "print(type(x))\n",
    "print(type(y))\n",
    "print(type(z))\n",
    "\n",
    "print(w, x, y, z)\n"
   ]
  },
  {
   "cell_type": "markdown",
   "metadata": {},
   "source": [
    "4. Crie 3 conjuntos conforme estrutura a seguir: \n",
    "\n",
    "setx = set([\"apple\", \"mango\"]) \n",
    "\n",
    "sety = set([\"mango\", \"orange\"]) \n",
    "\n",
    "setz = set([\"mango\"]) \n",
    "\n",
    "Faça as seguintes operações sobre conjuntos: \n",
    "\n",
    "a) Faça a união dos três conjuntos e imprima o resultado \n",
    "\n",
    "b) Verifique quais os elementos comuns do conjunto setx e sety e imprima o resultado \n",
    "\n",
    "c) Verifique se o conjunto setx é subconjunto do conjunto sety e setz utilizando  issubset() \n",
    "\n",
    "d) Verifique quais elementos do conjunto setx não existem em sety \n"
   ]
  },
  {
   "cell_type": "code",
   "execution_count": null,
   "metadata": {},
   "outputs": [
    {
     "name": "stdout",
     "output_type": "stream",
     "text": [
      "{'mango', 'apple', 'orange'}\n",
      "{'mango'}\n",
      "False\n",
      "{'apple'}\n"
     ]
    }
   ],
   "source": [
    "setx = set([\"apple\", \"mango\"]) \n",
    "sety = set([\"mango\", \"orange\"]) \n",
    "setz = set([\"mango\"]) \n",
    "\n",
    "#a) Faça a união dos três conjuntos e imprima o resultado \n",
    "uniao3 = set.union(setx,sety,setz)\n",
    "print(uniao3)\n",
    "\n",
    "#b) Verifique quais os elementos comuns do conjunto setx e sety e imprima o resultado \n",
    "comum = setx.intersection(sety)\n",
    "print(comum)\n",
    "\n",
    "\n",
    "#c) Verifique se o conjunto setx é subconjunto do conjunto sety e setz utilizando  issubset() \n",
    "subconjunto = setx.issubset(sety)\n",
    "print(subconjunto)\n",
    "\n",
    "#d) Verifique quais elementos do conjunto setx não existem em sety \n",
    "nExiste = setx.difference(sety)\n",
    "print(nExiste) \n"
   ]
  },
  {
   "cell_type": "markdown",
   "metadata": {},
   "source": [
    "5. Escreva um programa Python para inserir um elemento no início de um determinado DicionárioOrdenado. \n",
    "\n",
    "DicionárioOrdenado original: \n",
    "\n",
    "DicionárioOrdenado ([('color1', 'Red'), ('color2', 'Green'), ('color3', 'Blue')]) \n",
    "\n",
    "Insira um elemento no início do referido DicionárioOrdenado: \n",
    "\n",
    "DicionárioOrdenado atualizado: \n",
    "\n",
    "DicionárioOrdenado ([('color4', 'Orange'), ('color1', 'Red'), ('color2', 'Green'), ('color3', 'Blue')])\n"
   ]
  },
  {
   "cell_type": "code",
   "execution_count": null,
   "metadata": {},
   "outputs": [
    {
     "name": "stdout",
     "output_type": "stream",
     "text": [
      "[('color1', 'Red'), ('color2', 'Green'), ('color3', 'Blue')]\n",
      "[('color4', 'Orange'), ('color1', 'Red'), ('color2', 'Green'), ('color3', 'Blue')]\n"
     ]
    }
   ],
   "source": [
    "DicionárioOrdenado = ([('color1', 'Red'), ('color2', 'Green'), ('color3', 'Blue')]) \n",
    "print(DicionárioOrdenado)\n",
    "DicionárioOrdenado.insert(0,('color4', 'Orange'))\n",
    "print(DicionárioOrdenado)\n"
   ]
  },
  {
   "cell_type": "markdown",
   "metadata": {},
   "source": [
    "6. Escreva uma função chamada right_justify, que receba uma string chamada s como  parâmetro e exiba a string com espaços suficientes à frente para que a última letra da  string esteja na coluna 70 da tela: \n",
    "\n",
    "\n",
    "> right_justify('monty') \n",
    "\n",
    "\n",
    "Dica: Use concatenação de strings e repetição. Além disso, o Python oferece uma  função integrada chamada len, que apresenta o comprimento de uma string, então o  valor de len('monty') é 5. \n"
   ]
  },
  {
   "cell_type": "code",
   "execution_count": null,
   "metadata": {},
   "outputs": [
    {
     "data": {
      "text/plain": [
       "'                                                    mentorama'"
      ]
     },
     "execution_count": 80,
     "metadata": {},
     "output_type": "execute_result"
    }
   ],
   "source": [
    "def right_justify(s):\n",
    "    tamanho = len(s)\n",
    "    x = s.rjust(70-tamanho)\n",
    "    return x \n",
    "\n",
    "right_justify('mentorama')\n"
   ]
  },
  {
   "cell_type": "markdown",
   "metadata": {},
   "source": [
    "7. Um objeto de função é um valor que pode ser atribuído a uma variável ou passado como argumento. Por exemplo, do_twice é uma função que toma um objeto de função como argumento e o chama duas vezes:\n",
    "\n",
    "def do_twice(f): \n",
    " f() \n",
    "\n",
    " f() \n",
    "\n",
    "Aqui está um exemplo que usa do_twice para chamar uma função chamada print_spam duas vezes: \n",
    "\n",
    "def print_spam(): \n",
    "\n",
    " print('spam') \n",
    " \n",
    "do_twice(print_spam) \n",
    "\n",
    "a) Digite este exemplo em um script e teste-o. \n",
    "\n",
    "b) Altere do_twice para que receba dois argumentos, um objeto de função e um valor, e chame a função duas vezes, passando o valor como um \n",
    "argumento. \n"
   ]
  },
  {
   "cell_type": "code",
   "execution_count": 109,
   "metadata": {},
   "outputs": [
    {
     "name": "stdout",
     "output_type": "stream",
     "text": [
      "ola mundo\n",
      "ola mundo\n"
     ]
    }
   ],
   "source": [
    "def do_twice(f,g): \n",
    "    f(g) \n",
    "    f(g) \n",
    "     \n",
    "def printValor(g):\n",
    "   print(g)\n",
    "\n",
    "do_twice(printValor,\"ola mundo\")\n"
   ]
  },
  {
   "cell_type": "markdown",
   "metadata": {},
   "source": [
    "8. Crie um programa que faça a impressão de uma mensagem e a multiplicação de dois  números. Utilize módulos e funções para resolução desse problema. \n",
    "\n",
    "a) O usuário deve entrar com a mensagem e com o uso de módulos e funções, essa  mensagem deve ser impressa na tela \n",
    "\n",
    "b) O usuário deve entrar com os valores dos dois multiplicadores e o programa deve exibir  o resultado na tela.  \n"
   ]
  },
  {
   "cell_type": "code",
   "execution_count": null,
   "metadata": {},
   "outputs": [
    {
     "name": "stdout",
     "output_type": "stream",
     "text": [
      "olá mundo\n",
      "a multiplicação de 8.0 por 99.0 é 792.0\n"
     ]
    }
   ],
   "source": [
    "\n",
    "def msn():\n",
    "    msn = input(\"informe a mensagem que deseja imprimir na tela: \")\n",
    "    print(msn)\n",
    "\n",
    "\n",
    "def multiplica():\n",
    "    x = float(input(\"informe o primeiro numero da multiplicação: \"))\n",
    "    y = float(input(\"informe o segundo numero da multiplicação: \"))\n",
    "    print(f'a multiplicação de {x} por {y} é {x*y}')\n",
    "\n",
    "\n",
    "msn()\n",
    "multiplica()\n"
   ]
  },
  {
   "cell_type": "markdown",
   "metadata": {},
   "source": [
    "9. Dada uma lista encadeada de caracteres formada por uma sequência alternada de  letras e dígitos, construa um método que retorne uma lista na qual as letras são  mantidas na sequência original e os dígitos são colocados na ordem inversa. Exemplos: \n",
    "\n",
    "A 1 E 5 T 7 W 8 G → A E T W G 8 7 5 1\n",
    "\n",
    "3 C 9 H 4 Q 6 → C H Q 6 4 9 3 \n",
    "\n",
    "Como mostram os exemplos, as letras devem ser mostradas primeiro, seguidas dos  dígitos. Sugestões: \n",
    "\n",
    "a) usar uma fila e uma pilha; \n",
    "\n",
    "b) supor um método ehDigito() que retorna um valor booleano, como por exemplo,  verdadeiro caso um caractere seja um dígito.\n",
    "\n"
   ]
  },
  {
   "cell_type": "code",
   "execution_count": null,
   "metadata": {},
   "outputs": [
    {
     "name": "stdout",
     "output_type": "stream",
     "text": [
      "['A', 'E', 'T', 'W', 'G', 8, 7, 5, 1]\n",
      "['C', 'H', 'Q', 6, 4, 9, 3]\n"
     ]
    }
   ],
   "source": [
    "lista1 = ['A',1,'E',5,'T',7,'W',8,'G']\n",
    "lista2 = [3,'C',9,'H',4,'Q',6 ]\n",
    "\n",
    "def ehDigito(lista):\n",
    "    digito = []\n",
    "    string = []\n",
    "    for dig in lista:\n",
    "        if type(dig) == str:\n",
    "                string.append(dig)\n",
    "        elif type(dig) == int:\n",
    "                digito.insert(0,dig)\n",
    "         \n",
    "    string.extend(digito)\n",
    "    return print(string)\n",
    "\n",
    "ehDigito(lista1)\n",
    "ehDigito(lista2)\n",
    "\n",
    "\n"
   ]
  }
 ],
 "metadata": {
  "kernelspec": {
   "display_name": "Python 3.9.12 ('base')",
   "language": "python",
   "name": "python3"
  },
  "language_info": {
   "codemirror_mode": {
    "name": "ipython",
    "version": 3
   },
   "file_extension": ".py",
   "mimetype": "text/x-python",
   "name": "python",
   "nbconvert_exporter": "python",
   "pygments_lexer": "ipython3",
   "version": "3.9.12"
  },
  "vscode": {
   "interpreter": {
    "hash": "ad2bdc8ecc057115af97d19610ffacc2b4e99fae6737bb82f5d7fb13d2f2c186"
   }
  }
 },
 "nbformat": 4,
 "nbformat_minor": 2
}
