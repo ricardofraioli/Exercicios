{
 "cells": [
  {
   "cell_type": "markdown",
   "id": "59da1675",
   "metadata": {},
   "source": [
    "## Exercicios Modulo 1 "
   ]
  },
  {
   "cell_type": "markdown",
   "id": "49e2c5bf",
   "metadata": {},
   "source": [
    "### 1.\tFaça um programa que imprima seu nome completo na tela\n"
   ]
  },
  {
   "cell_type": "code",
   "execution_count": 1,
   "id": "797e96af",
   "metadata": {},
   "outputs": [
    {
     "name": "stdout",
     "output_type": "stream",
     "text": [
      "Ricardo Ferreira Fraioli\n"
     ]
    }
   ],
   "source": [
    "print(\"Ricardo Ferreira Fraioli\")\n"
   ]
  },
  {
   "cell_type": "markdown",
   "id": "f5322654",
   "metadata": {},
   "source": [
    "### 2.\tEscreva um programa que exiba o resultado de 5a x 3b onde a = 2 e b = 5"
   ]
  },
  {
   "cell_type": "code",
   "execution_count": 2,
   "id": "55661c64",
   "metadata": {},
   "outputs": [
    {
     "name": "stdout",
     "output_type": "stream",
     "text": [
      "150\n"
     ]
    }
   ],
   "source": [
    "a = 2\n",
    "b = 5\n",
    "equação = (5*a)*(3*b)\n",
    "print(equação)\n",
    "\n"
   ]
  },
  {
   "cell_type": "markdown",
   "id": "47951a87",
   "metadata": {},
   "source": [
    "### 3.\tModifique o primeiro programa, inserindo uma terceira variável c = 5 e imprime a soma das três variáveis"
   ]
  },
  {
   "cell_type": "code",
   "execution_count": 3,
   "id": "6e9158f2",
   "metadata": {},
   "outputs": [
    {
     "name": "stdout",
     "output_type": "stream",
     "text": [
      "12\n"
     ]
    }
   ],
   "source": [
    "a = 2\n",
    "b = 5\n",
    "c = 5\n",
    "equação = a+b+c\n",
    "print(equação)\n"
   ]
  },
  {
   "cell_type": "markdown",
   "id": "5c6e3792",
   "metadata": {},
   "source": [
    "### 4.\tEscreva um programa que leia dois números e que pergunte qual operação você deseja realizar. Você deve poder calcular a soma (+), subtração(-), multiplicação(*) e divisão(/). Exiba o resultado da operação."
   ]
  },
  {
   "cell_type": "code",
   "execution_count": 32,
   "id": "5e140a67",
   "metadata": {},
   "outputs": [
    {
     "name": "stdout",
     "output_type": "stream",
     "text": [
      "Calculadora simples:\n",
      "informe os valores e depois o operador \n",
      "infomre o primeiro  valor: 8\n",
      "infomre o segundo valor: 10\n",
      "informe o operador\n",
      "+ = soma\n",
      "- = subtração\n",
      "/ = divisão\n",
      "* = multiplicação \n",
      "-\n",
      "\n",
      "\n",
      "8 - 10 = -2\n"
     ]
    }
   ],
   "source": [
    "print(\"\"\"Calculadora simples:\n",
    "informe os valores e depois o operador \"\"\")\n",
    "valor1 = int(input(\"infomre o primeiro  valor: \"))\n",
    "valor2 = int(input(\"infomre o segundo valor: \"))\n",
    "operador = input(\"\"\"informe o operador\n",
    "+ = soma\n",
    "- = subtração\n",
    "/ = divisão\n",
    "* = multiplicação \n",
    "\"\"\")\n",
    "print(\"\\n\")\n",
    "if operador == '+':\n",
    "    print(f'{valor1} + {valor2} = {valor1+valor2}')\n",
    "elif operador == '-':\n",
    "    print(f'{valor1} - {valor2} = {valor1-valor2}')\n",
    "elif operador == '*':\n",
    "    print(f'{valor1} * {valor2} = {valor1*valor2}')\n",
    "elif operador == '/':\n",
    "    print(f'{valor1} / {valor2} = {valor1/valor2}')\n",
    "else:\n",
    "    print(\"informe um operador valido\")\n"
   ]
  },
  {
   "cell_type": "markdown",
   "id": "d28d55dc",
   "metadata": {},
   "source": [
    "### 5.\tEscreva um programa em Python para contar de 1 até 10. \n",
    "\n",
    "a) usando a instrução while\n",
    "\n",
    "b) usando a instrução for e a função range \n",
    "\n"
   ]
  },
  {
   "cell_type": "code",
   "execution_count": 43,
   "id": "9e92aba1",
   "metadata": {},
   "outputs": [
    {
     "name": "stdout",
     "output_type": "stream",
     "text": [
      "1\n",
      "2\n",
      "3\n",
      "4\n",
      "5\n",
      "6\n",
      "7\n",
      "8\n",
      "9\n",
      "10\n",
      "\n",
      "\n",
      "1\n",
      "2\n",
      "3\n",
      "4\n",
      "5\n",
      "6\n",
      "7\n",
      "8\n",
      "9\n",
      "10\n"
     ]
    }
   ],
   "source": [
    "x = 0\n",
    "while x < 10:\n",
    "    x +=1 \n",
    "    print(x)\n",
    "    \n",
    "print(\"\\n\")\n",
    "    \n",
    "for y in range(1,11):\n",
    "    print(y)\n"
   ]
  },
  {
   "cell_type": "markdown",
   "id": "7454c1e5",
   "metadata": {},
   "source": [
    "### 6.\tEscreva um programa para contar quantos números pares e ímpares existentes entre 1 e 10 bem como a soma deles. \n",
    "\n",
    "a) usando a instrução while \n",
    "\n",
    "b) usando a instrução for e as funções range e sum \n"
   ]
  },
  {
   "cell_type": "code",
   "execution_count": 71,
   "id": "45cb6496",
   "metadata": {
    "scrolled": true
   },
   "outputs": [
    {
     "name": "stdout",
     "output_type": "stream",
     "text": [
      "Usando a instrução while\n",
      "[2, 4, 6, 8, 10]\n",
      "a soma doa valores par 30\n",
      "\n",
      "1\n",
      "3\n",
      "5\n",
      "7\n",
      "9\n",
      "a soma doa valores impares 25\n",
      "\n",
      "usando a instrução for e as funções range e sum\n",
      "2\n",
      "4\n",
      "6\n",
      "8\n",
      "10\n",
      "a soma doa valores par 30\n",
      "\n",
      "[1, 3, 5, 7, 9]\n",
      "a soma doa valores impares 25\n",
      "\n"
     ]
    }
   ],
   "source": [
    "print(\"Usando a instrução while\")\n",
    "par,impar,soma_impar= 0,0,0\n",
    "list_par =[]\n",
    "while par < 10:\n",
    "    par += 1\n",
    "    if par % 2 == 0:\n",
    "        list_par.append(par)\n",
    "print(list_par)\n",
    "soma_par= sum(list_par)\n",
    "print(f'a soma doa valores par {soma_par}\\n')\n",
    "while impar < 10: \n",
    "    impar += 1\n",
    "    if impar % 2 == 1:\n",
    "        print(impar)\n",
    "soma_impar= (1+3+5+7+9)\n",
    "print(f'a soma doa valores impares {soma_impar}\\n')\n",
    "\n",
    "\n",
    "print(\"usando a instrução for e as funções range e sum\")\n",
    "list_impar = []\n",
    "for par in range(1,11):\n",
    "    if par %2 == 0:\n",
    "        print(par)\n",
    "soma_par = (2+4+6+8+10)\n",
    "print(f'a soma doa valores par {soma_par}\\n')\n",
    "\n",
    "for impar in range(1,11):\n",
    "    if impar %2 ==1:\n",
    "        list_impar.append(impar)\n",
    "print(list_impar)\n",
    "soma_impar = sum(list_impar)\n",
    "print(f'a soma doa valores impares {soma_impar}\\n')\n",
    "\n",
    "\n",
    "\n",
    "    \n",
    "   "
   ]
  },
  {
   "cell_type": "markdown",
   "id": "94cc5821",
   "metadata": {},
   "source": [
    "### 7.\tEscreva um programa para resolver equações do segundo grau representadas por ax2+bx+c usando a Fórmula de Bhaskara. \n",
    "\n",
    "a) sem usar o módulo math \n",
    "\n",
    "b) usando o módulo math \n",
    "\n",
    "c)Teste seu programa com os coeficientes: \n",
    "\n",
    "\n",
    "a=1,b=-5,c=6 \n",
    "\n",
    "a=1,b=0,c=-9 \n",
    "\n",
    "a=5,b=-45,c=0 \n",
    "\n",
    "a=1,b=-1,c=-12 \n",
    "\n",
    "a=1,b=-6,c=10 \n",
    "\n"
   ]
  },
  {
   "cell_type": "code",
   "execution_count": 41,
   "id": "7b8efd58",
   "metadata": {},
   "outputs": [
    {
     "name": "stdout",
     "output_type": "stream",
     "text": [
      "a) sem usar o módulo math\n",
      "x1= -3.0 | x2= -2.0 \n",
      "\n",
      "b) usando o módulo math\n",
      "x1= -3.0 | x2= -2.0\n",
      "\n"
     ]
    }
   ],
   "source": [
    "print(\"a) sem usar o módulo math\")\n",
    "\n",
    "a,b,c = 1,5,6 \n",
    "\n",
    "delta = ((b**2)-(4*a*c))\n",
    "if delta < 0:\n",
    "    delta = delta *-1        \n",
    "x1 = (-b -(delta**0.5))/(2*a)\n",
    "x2 = (-b +(delta**0.5))/(2*a)\n",
    "print(f'x1= {x1} | x2= {x2} \\n')\n",
    "\n",
    "\n",
    "print(\"b) usando o módulo math\")\n",
    "from math import sqrt, fsum\n",
    "\n",
    "delta_math = ((b**2)-(4*a*c))\n",
    "if delta_math < 0:\n",
    "    delta_math = delta_math *-1\n",
    "raiz= sqrt(delta) \n",
    "x1_math= (-b -(raiz))/(2*a)\n",
    "x2_math = (-b +(raiz))/(2*a)\n",
    "\n",
    "print(f'x1= {x1_math} | x2= {x2_math}\\n')\n",
    "\n",
    "\n"
   ]
  },
  {
   "cell_type": "markdown",
   "id": "2e253dbf",
   "metadata": {},
   "source": [
    "### 8. Vamos reescrever o programa acima criando uma função bhaskara que recebe como  parâmetros os coeficientes a, b e c e retorna as raízes da equação. \n",
    "### Dica: Iremos aprender sobre funções no próximo módulo, fique tranquilo. Contudo, você já  pode começar a praticar. A definição da função é a seguinte: \n",
    " def bhaskara(a, b, c): \n",
    " \n",
    "     delta = b ** 2 - 4 * a * c \n",
    "     \n",
    "     if delta < 0:\n",
    "     \n",
    "    return None \n",
    "    \n",
    " else: \n",
    " \n",
    "     raizes = []\n",
    "     \n",
    "     m1 = math.sqrt(delta) \n",
    "     \n",
    "     r1 =(-b + m1) / (2 * a) \n",
    "     \n",
    "     raizes.append(r1) \n",
    "     \n",
    "     r2 =(-b - m1) / (2 * a) \n",
    "     \n",
    "     raizes.append(r2) \n",
    "     \n",
    "     return raizes \n",
    "     \n",
    "     \n",
    "### Responda as questões a seguir: \n",
    "### a) O que significam palavras reservadas em Python? Quais são as palavras reservadas no  código acima? \n",
    "\n",
    "Resposta: São palavras que exercem uma função definida pela linguagem, def, if,return, None else\n",
    "\n",
    "### b) Qual a função de cada uma dessas palavras reservadas no código? \n",
    "\n",
    "Resposta: def = cria uma função\n",
    "\n",
    "          if e else = condições logica se senão \n",
    "          \n",
    "          return =  retorna um valor ou algo de uma função \n",
    "          \n",
    "          None = retorna nenhum valor, vazio \n",
    "          \n",
    "\n",
    "### c) Implemente a função acima e mostre na tela, o resultado da equação de segundo grau. \n"
   ]
  },
  {
   "cell_type": "code",
   "execution_count": 29,
   "id": "b953fb9b",
   "metadata": {},
   "outputs": [
    {
     "data": {
      "text/plain": [
       "[-2.0, -3.0]"
      ]
     },
     "execution_count": 29,
     "metadata": {},
     "output_type": "execute_result"
    }
   ],
   "source": [
    "import math\n",
    "\n",
    "def bhaskara(a, b, c): \n",
    "    delta = b ** 2 - 4 * a * c \n",
    "    if delta < 0:\n",
    "        return None \n",
    "    else: \n",
    "        raizes = [] \n",
    "        m1 = math.sqrt(delta) \n",
    "        r1 =(-b + m1) / (2 * a) \n",
    "        raizes.append(r1) \n",
    "        r2 =(-b - m1) / (2 * a) \n",
    "        raizes.append(r2) \n",
    "        return raizes \n",
    "    \n",
    "bhaskara(1,5,6)\n",
    "\n",
    "\n",
    "\n"
   ]
  },
  {
   "cell_type": "markdown",
   "id": "2f80d381",
   "metadata": {},
   "source": [
    "### 9.\t Considerando a string s = 'Mentorama' escreva um programa que: \n",
    "a) converta a string para maiúsculo, em seguida \n",
    "\n",
    "b) imprima-a de trás para frente \n",
    "\n",
    "c) imprima somente as vogais \n"
   ]
  },
  {
   "cell_type": "code",
   "execution_count": 78,
   "id": "23221ccc",
   "metadata": {},
   "outputs": [
    {
     "name": "stdout",
     "output_type": "stream",
     "text": [
      "MENTORAMA\n",
      "AMAROTNEM\n",
      "e\n",
      "o\n",
      "a\n",
      "a\n"
     ]
    }
   ],
   "source": [
    "s = 'Mentorama'\n",
    "tmp =list(s)\n",
    "l = list(s)\n",
    "invert=[]\n",
    "cont = 0\n",
    "fim = len(s)-1\n",
    "print(s.upper())\n",
    "\n",
    "while cont <= fim:\n",
    "    invert.extend(tmp[-1:])\n",
    "    del tmp[-1:]\n",
    "\n",
    "    cont +=1\n",
    "t=\"\".join(invert)\n",
    "print(t.upper())\n",
    "\n",
    "for x in s:\n",
    "    if x in 'aeiou':\n",
    "        print(x)\n",
    "       \n",
    "\n"
   ]
  },
  {
   "cell_type": "markdown",
   "id": "6dd08fa6",
   "metadata": {},
   "source": [
    "### 10 Escreva um programa que receba como entrada do usuário o nome “João” sobrenome “da Silva”, idade “25”, Cidade “São Paulo”, ddd “11”, telefone “3333-3333” e  faça as seguintes instruções: \n",
    "a) imprima na tela o nome completo em uma única linha \n",
    "\n",
    "Nome: João da Silva \n",
    "\n",
    "b) imprima na tela o telefone com ddd em uma única linha\n",
    "\n",
    "Telefone: (11)3333-3333 \n",
    "\n",
    "c) Imprima na tela a idade \n",
    "\n",
    "Idade: 25 \n",
    "\n",
    "d) Imprima na tela a cidade \n",
    "\n",
    "Cidade: São Paulo\n"
   ]
  },
  {
   "cell_type": "code",
   "execution_count": 35,
   "id": "0f125520",
   "metadata": {},
   "outputs": [
    {
     "name": "stdout",
     "output_type": "stream",
     "text": [
      "informe seu nome: João \n",
      "informe seu Sobrenome: da Silva\n",
      "iforme sua idade: 25\n",
      "informe sua cidade: São Paulo\n",
      "informe o DDD da sua cidade: 11\n",
      "informe seu telefone: 3333-3333\n",
      "--------------------------------\n",
      "\n",
      "Nome: João da Silva\n",
      "Idade:25\n",
      "Telefone: (11)3333-3333\n",
      "Cidade: São Paulo\n"
     ]
    }
   ],
   "source": [
    "nome = input(\"informe seu nome: \")\n",
    "sobrenome =  input(\"informe seu Sobrenome: \")\n",
    "idade = input (\"iforme sua idade: \")\n",
    "cidade = input(\"informe sua cidade: \")\n",
    "ddd = input(\"informe o DDD da sua cidade: \")\n",
    "tel = input(\"informe seu telefone: \")\n",
    "print(\"--------------------------------\\n\")\n",
    "\n",
    "print(f\"Nome: {nome + sobrenome}\")\n",
    "print(f\"Idade:{idade}\")\n",
    "print(f\"Telefone: ({ddd}){tel}\")\n",
    "print(f\"Cidade: {cidade}\")\n",
    "\n",
    "\n",
    "\n"
   ]
  },
  {
   "cell_type": "code",
   "execution_count": null,
   "id": "de485222",
   "metadata": {},
   "outputs": [],
   "source": []
  }
 ],
 "metadata": {
  "kernelspec": {
   "display_name": "Python 3 (ipykernel)",
   "language": "python",
   "name": "python3"
  },
  "language_info": {
   "codemirror_mode": {
    "name": "ipython",
    "version": 3
   },
   "file_extension": ".py",
   "mimetype": "text/x-python",
   "name": "python",
   "nbconvert_exporter": "python",
   "pygments_lexer": "ipython3",
   "version": "3.9.12"
  }
 },
 "nbformat": 4,
 "nbformat_minor": 5
}
